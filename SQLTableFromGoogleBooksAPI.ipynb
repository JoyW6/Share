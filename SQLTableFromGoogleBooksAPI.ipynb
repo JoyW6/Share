{
 "cells": [
  {
   "cell_type": "code",
   "execution_count": 560,
   "metadata": {
    "collapsed": true
   },
   "outputs": [],
   "source": [
    "import numpy as np \n",
    "import pandas as pd\n",
    "from pandas import Series, DataFrame\n",
    "import json, urllib\n",
    "from random import randint"
   ]
  },
  {
   "cell_type": "code",
   "execution_count": 561,
   "metadata": {
    "collapsed": false
   },
   "outputs": [],
   "source": [
    "books = []\n",
    "# change search_terms as you like, Google Books API returns at most 40 book records for each search term \n",
    "search_terms = ['choose','any','term','you','like'] \n",
    "for search_term in search_terms:\n",
    "    url = \"https://www.googleapis.com/books/v1/volumes?q=\" + search_term + \"+&printType=books&orderBy=newest&maxResults=40\"\n",
    "    response = urllib.urlopen(url)\n",
    "    data = json.loads(response.read())\n",
    "    books = np.concatenate([books, data['items']],axis=1)"
   ]
  },
  {
   "cell_type": "code",
   "execution_count": 563,
   "metadata": {
    "collapsed": true
   },
   "outputs": [],
   "source": [
    "# np.save(\"books.npy\", books)"
   ]
  },
  {
   "cell_type": "code",
   "execution_count": 590,
   "metadata": {
    "collapsed": true
   },
   "outputs": [],
   "source": [
    "# what information to extract from json data is also your choice - below is only my example\n",
    "# sample json data: https://www.googleapis.com/books/v1/volumes?q=e+&printType=books\n",
    "cols_bookInfo = ['gbid','title','subtitle','ISBN_13','ISBN_10','publisher','publishedDate','pageCount','description',\n",
    "             'averageRating','ratingsCount','listPrice']\n",
    "df_bookInfo = pd.DataFrame(columns=cols_bookInfo)\n",
    "cols_bookOnShelf = ['bookId','retailPrice','quantity']\n",
    "df_bookOnShelf = pd.DataFrame(columns=cols_bookOnShelf)\n",
    "cols_bookAuthor = ['bookId','author','authorOrder']\n",
    "df_bookAuthor = pd.DataFrame(columns=cols_bookAuthor)\n",
    "cols_bookCategory = ['bookId','category']\n",
    "df_bookCategory = pd.DataFrame(columns=cols_bookCategory)"
   ]
  },
  {
   "cell_type": "code",
   "execution_count": 591,
   "metadata": {
    "collapsed": true
   },
   "outputs": [],
   "source": [
    "import re\n",
    "def is_date(s):\n",
    "    pattern = re.compile(\"^[0-9]{4}-[0-9]{2}-[0-9]{2}$\")\n",
    "    return pattern.match(s)"
   ]
  },
  {
   "cell_type": "code",
   "execution_count": 592,
   "metadata": {
    "collapsed": false
   },
   "outputs": [],
   "source": [
    "bookId = 1\n",
    "bookAuthorId = 1\n",
    "bookCategoryId = 1\n",
    "for book in books:\n",
    "    gbid = book['id']\n",
    "    if(gbid in df_bookInfo['gbid'].values):\n",
    "        continue\n",
    "    language = book.get('volumeInfo').get('language') \n",
    "    if (language != 'en'):\n",
    "        continue\n",
    "    listPriceNode = book.get('saleInfo').get('listPrice')\n",
    "    retailPriceNode = book.get('saleInfo').get('retailPrice')\n",
    "    if (listPriceNode is None or retailPriceNode is None):\n",
    "        continue\n",
    "    listPriceCurrency = listPriceNode.get('currencyCode')\n",
    "    retailPriceCurrency = retailPriceNode.get('currencyCode')\n",
    "    if (listPriceCurrency != 'USD' or retailPriceCurrency != 'USD'):\n",
    "        continue\n",
    "    publishedDate = book.get('volumeInfo').get('publishedDate')\n",
    "    if (not is_date(publishedDate)):\n",
    "        continue\n",
    "    pageCount = book.get('volumeInfo').get('pageCount')\n",
    "    if (pageCount is None):\n",
    "        continue\n",
    "    ratingsCount = book.get('volumeInfo').get('ratingsCount')\n",
    "    if (ratingsCount is None):\n",
    "        continue\n",
    "    if (book.get('volumeInfo').get('industryIdentifiers') is None):\n",
    "        continue \n",
    "    if (book.get('volumeInfo').get('authors') is None):\n",
    "        continue\n",
    "    if (book.get('volumeInfo').get('categories') is None):\n",
    "        continue\n",
    "    \n",
    "    title = book.get('volumeInfo').get('title')\n",
    "    subtitle = book.get('volumeInfo').get('subtitle')\n",
    "    for identifierNode in book.get('volumeInfo').get('industryIdentifiers'):\n",
    "        if (identifierNode.get('type') == 'ISBN_13'):\n",
    "            isbn13 = identifierNode.get('identifier')\n",
    "        if (identifierNode.get('type') == 'ISBN_10'):\n",
    "            isbn10 = identifierNode.get('identifier')    \n",
    "    publisher = book.get('volumeInfo').get('publisher')\n",
    "    description = book.get('volumeInfo').get('description')\n",
    "    averageRating = book.get('volumeInfo').get('averageRating')\n",
    "    listPrice = book.get('saleInfo').get('listPrice').get('amount')\n",
    "    retailPrice = book.get('saleInfo').get('retailPrice').get('amount')\n",
    "\n",
    "    df_bookInfo.loc[bookId] = [gbid,title,subtitle,isbn13,isbn10,publisher,publishedDate,pageCount,description,\n",
    "                               averageRating,ratingsCount,listPrice]\n",
    "    df_bookOnShelf.loc[bookId] = [bookId,retailPrice,randint(0,10)]\n",
    "       \n",
    "    authorOrder = 1\n",
    "    for author in book.get('volumeInfo').get('authors'):\n",
    "        df_bookAuthor.loc[bookAuthorId] = [bookId,author,authorOrder]\n",
    "        authorOrder = authorOrder + 1\n",
    "        bookAuthorId = bookAuthorId + 1\n",
    "    \n",
    "    for category in book.get('volumeInfo').get('categories'):\n",
    "        df_bookCategory.loc[bookCategoryId] = [bookId,category.title()]\n",
    "        bookCategoryId = bookCategoryId + 1\n",
    "    \n",
    "    bookId = bookId + 1"
   ]
  },
  {
   "cell_type": "code",
   "execution_count": 593,
   "metadata": {
    "collapsed": false
   },
   "outputs": [],
   "source": [
    "df_bookInfo.pageCount = df_bookInfo.pageCount.astype(int)\n",
    "df_bookInfo.ratingsCount = df_bookInfo.ratingsCount.astype(int)\n",
    "df_bookInfo.to_csv('bookInfo.csv',sep='\\t',encoding='utf-8')\n",
    "# change encoding in Notepad++ to 'UCS-2 BE BOM', save as 'bookInfo_ucs.csv'\n",
    "df_bookOnShelf.bookId = df_bookOnShelf.bookId.astype(int)\n",
    "df_bookOnShelf.quantity = df_bookOnShelf.quantity.astype(int)\n",
    "df_bookOnShelf.to_csv('bookOnShelf.csv',sep='\\t')\n",
    "df_bookAuthor.bookId = df_bookAuthor.bookId.astype(int)\n",
    "df_bookAuthor.authorOrder = df_bookAuthor.authorOrder.astype(int)\n",
    "df_bookAuthor.to_csv('bookAuthor.csv',sep='\\t',encoding='utf-8')\n",
    "# change encoding in Notepad++ to 'UCS-2 BE BOM', save as 'bookAuthor_ucs.csv'\n",
    "df_bookCategory.bookId = df_bookCategory.bookId.astype(int)\n",
    "df_bookCategory.to_csv('bookCategory.csv',sep='\\t')"
   ]
  },
  {
   "cell_type": "code",
   "execution_count": 594,
   "metadata": {
    "collapsed": true
   },
   "outputs": [],
   "source": [
    "# In Microsoft SQL Server 2014\n",
    "\n",
    "# BULK INSERT dbo.BookInfo\n",
    "# FROM 'C:\\Users\\Joy\\Documents\\IPython\\bookInfo_ucs.csv'\n",
    "# WITH\n",
    "#(\n",
    "#    FIRSTROW = 2,\n",
    "#    FIELDTERMINATOR = '\\t',  --CSV field delimiter\n",
    "#    ROWTERMINATOR = '\\n',   --Use to shift the control to next row\n",
    "#    DATAFILETYPE = 'widechar',\n",
    "#    TABLOCK\n",
    "#)"
   ]
  },
  {
   "cell_type": "code",
   "execution_count": 597,
   "metadata": {
    "collapsed": true
   },
   "outputs": [],
   "source": [
    "# cover image :\n",
    "# https://books.google.com/books/content?id=ajLMLYUlAqcC&printsec=frontcover&img=1&zoom=3&edge=curl&source=gbs_api"
   ]
  }
 ],
 "metadata": {
  "kernelspec": {
   "display_name": "Python 2",
   "language": "python",
   "name": "python2"
  },
  "language_info": {
   "codemirror_mode": {
    "name": "ipython",
    "version": 2
   },
   "file_extension": ".py",
   "mimetype": "text/x-python",
   "name": "python",
   "nbconvert_exporter": "python",
   "pygments_lexer": "ipython2",
   "version": "2.7.10"
  }
 },
 "nbformat": 4,
 "nbformat_minor": 0
}
